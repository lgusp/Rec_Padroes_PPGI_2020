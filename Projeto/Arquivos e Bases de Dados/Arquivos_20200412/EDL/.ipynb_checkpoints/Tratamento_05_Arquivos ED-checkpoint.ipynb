{
 "cells": [
  {
   "cell_type": "markdown",
   "metadata": {},
   "source": [
    "# USP - EACH - Reconhecimento de Padrões - 12 de Abril de 2020"
   ]
  },
  {
   "cell_type": "markdown",
   "metadata": {},
   "source": [
    "## Tratamento dos Arquivos ED\n",
    "- Ajuste do identificador da linha (paciente)\n",
    "-- Vem com uma linha de idxxx e a outra com as colunas - vamos juntar as duas acertando o id na primeira coluna\n",
    "-- Verificação na quantidade final de colunas - 8 colunas"
   ]
  },
  {
   "cell_type": "code",
   "execution_count": 18,
   "metadata": {},
   "outputs": [],
   "source": [
    "# Rotina de acerto de arquivo\n",
    "def ajustaArquivo(arqent, arqsai):\n",
    "    # Ajuste do ID - vem sózinho na primeira linha e a próxima linha é de informação\n",
    "\n",
    "    arqE = arqent # Arquivo de Entrada\n",
    "    arqS = arqsai # Arquivo de saída\n",
    "    print('Arquivos Tratados. Entrada e saída: ', arqE, arqS)\n",
    "\n",
    "    # Tratando o identificador da linha\n",
    "    lant = ''\n",
    "    lmax = 0\n",
    "\n",
    "    ln = ''\n",
    "\n",
    "    with open(arqS, 'w') as saida:\n",
    "        with open(arqE) as entrada:\n",
    "        \n",
    "            for l in entrada:\n",
    "                #rint(l)\n",
    "                if (ln != ''):\n",
    "                    # Junta o id arrumado com a linha de dados\n",
    "                    linha = ln + ',' + l[:-2] + '\\n'\n",
    "                    ln = ''\n",
    "            \n",
    "                    # Grava a linha arrumada com o id e os dados no arquivo de saída\n",
    "                    saida.write(linha)\n",
    "                    #print('Saida: ', linha)\n",
    "                    # Verificando se a quantidade de virgulas (separadores) de uma linha é diferente de 8 (colunas)\n",
    "                    if (linha.count(',')) != 8:\n",
    "                        print(linha)\n",
    "                          \n",
    "                else:\n",
    "                    # Retira os espaços em branco da linha (antes e depois)\n",
    "                    linha = l.rstrip()\n",
    "            \n",
    "                    # Ajusta o identificador\n",
    "                    if (len(linha) > 12) or (len(linha) < 2):\n",
    "                        continue\n",
    "                    elif (len(linha) == 9):\n",
    "                        ln = 'id00' + linha[8:9]\n",
    "                    elif (len(linha) == 10):\n",
    "                        ln = 'id0' + linha[8:10]\n",
    "                    else:\n",
    "                        ln = 'id' + linha[8:11]                    "
   ]
  },
  {
   "cell_type": "code",
   "execution_count": 19,
   "metadata": {},
   "outputs": [
    {
     "name": "stdout",
     "output_type": "stream",
     "text": [
      "Arquivos Tratados. Entrada e saída:  EDLEndo.txt EDLEndo_01_20200412.txt\n",
      "Arquivos Tratados. Entrada e saída:  EDLEpi.txt EDLEpi_01_20200412.txt\n",
      "Arquivos Tratados. Entrada e saída:  EDLTotal.txt EDLTotal_01_20200412.txt\n"
     ]
    }
   ],
   "source": [
    "# Arquivos a serem ajustados\n",
    "ajustaArquivo('EDLEndo.txt', 'EDLEndo_01_20200412.txt')\n",
    "ajustaArquivo('EDLEpi.txt', 'EDLEpi_01_20200412.txt')\n",
    "ajustaArquivo('EDLTotal.txt', 'EDLTotal_01_20200412.txt')"
   ]
  },
  {
   "cell_type": "code",
   "execution_count": null,
   "metadata": {},
   "outputs": [],
   "source": []
  }
 ],
 "metadata": {
  "kernelspec": {
   "display_name": "Python 3",
   "language": "python",
   "name": "python3"
  },
  "language_info": {
   "codemirror_mode": {
    "name": "ipython",
    "version": 3
   },
   "file_extension": ".py",
   "mimetype": "text/x-python",
   "name": "python",
   "nbconvert_exporter": "python",
   "pygments_lexer": "ipython3",
   "version": "3.7.3"
  }
 },
 "nbformat": 4,
 "nbformat_minor": 2
}
