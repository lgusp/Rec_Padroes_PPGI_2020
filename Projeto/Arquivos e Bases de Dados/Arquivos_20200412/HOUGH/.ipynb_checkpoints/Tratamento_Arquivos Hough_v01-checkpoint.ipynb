{
 "cells": [
  {
   "cell_type": "markdown",
   "metadata": {},
   "source": [
    "# USP - EACH - Reconhecimento de Padrões - 12 de Abril de 2020"
   ]
  },
  {
   "cell_type": "markdown",
   "metadata": {},
   "source": [
    "## Tratamento dos Arquivos Hough\n",
    "- Ajuste do identificador da linha (paciente)\n",
    "-- Vem com uma linha de idxxx e a outra com as colunas - vamos juntar as duas acertando o id na primeira coluna\n",
    "-- Verificação na quantidade final de colunas - x colunas\n",
    "-- No arquivo original os valores estão separados por ponto-e-vírgula e a cada 4 valor a separação é só por vírgula\n",
    "-- Vamos deixar tudo como virgula"
   ]
  },
  {
   "cell_type": "code",
   "execution_count": 24,
   "metadata": {},
   "outputs": [],
   "source": [
    "# Rotina de acerto de arquivo\n",
    "def ajustaArquivo(arqent, arqsai):\n",
    "    import re\n",
    "    \n",
    "    arqE = arqent # Arquivo de Entrada\n",
    "    arqS = arqsai # Arquivo de saída\n",
    "    print('Arquivos Tratados. Entrada e saída: ', arqE, arqS)\n",
    "\n",
    "    # Tratando o identificador da linha\n",
    "    lant = ''\n",
    "    lmax = 0\n",
    "    lvirg = 0\n",
    "    ln = ''\n",
    "\n",
    "    with open(arqS, 'w') as saida:\n",
    "        with open(arqE) as entrada:\n",
    "        \n",
    "            for l in entrada:\n",
    "                #print('Linha de Entrada: ', l)\n",
    "                \n",
    "                if (ln != ''):\n",
    "                    # Junta o id arrumado com a linha de dados\n",
    "                    linha = ln + ',' + l[:-2] + '\\n'\n",
    "                    ln = ''\n",
    "                    \n",
    "                    # Altera todas os ponto-e-vírgulas para vírgulas\n",
    "                    linha = linha.replace(\";\", \",\")\n",
    "                                                            \n",
    "                    # Grava a linha arrumada com o id e os dados no arquivo de saída\n",
    "                    saida.write(linha)\n",
    "                    #print('Linha gravada: ', linha)\n",
    "                    \n",
    "                else:\n",
    "                    # Retira os espaços em branco da linha (antes e depois)\n",
    "                    linha = l.rstrip()\n",
    "            \n",
    "                    # Ajusta o identificador\n",
    "                    if (len(linha) > 12) or (len(linha) < 2):\n",
    "                        continue\n",
    "                    elif (len(linha) == 9):\n",
    "                        ln = 'id00' + linha[8:9]\n",
    "                    elif (len(linha) == 10):\n",
    "                        ln = 'id0' + linha[8:10]\n",
    "                    else:\n",
    "                        ln = 'id' + linha[8:11]                    "
   ]
  },
  {
   "cell_type": "code",
   "execution_count": 25,
   "metadata": {},
   "outputs": [
    {
     "name": "stdout",
     "output_type": "stream",
     "text": [
      "Arquivos Tratados. Entrada e saída:  Hough45Endo.txt Hough45Endo_01_20200412.txt\n",
      "Arquivos Tratados. Entrada e saída:  Hough45EndoReduzida.txt Hough45EndoReduzida_01_20200412.txt\n",
      "Arquivos Tratados. Entrada e saída:  Hough45Epi.txt Hough45Epi_01_20200412.txt\n",
      "Arquivos Tratados. Entrada e saída:  Hough45EpiReduzida.txt Hough45EpiReduzida_01_20200412.txt\n",
      "Arquivos Tratados. Entrada e saída:  Hough45Parede.txt Hough45Parede_01_20200412.txt\n",
      "Arquivos Tratados. Entrada e saída:  Hough45TotalReduzida.txt Hough45TotalReduzida_01_20200412.txt\n",
      "Arquivos Tratados. Entrada e saída:  Hough90Endo.txt Hough90Endo_01_20200412.txt\n",
      "Arquivos Tratados. Entrada e saída:  Hough90Epi.txt Hough90Epi_01_20200412.txt\n",
      "Arquivos Tratados. Entrada e saída:  Hough90EpiReduzida.txt Hough90EpiReduzida_01_20200412.txt\n",
      "Arquivos Tratados. Entrada e saída:  Hough90Total.txt Hough90Total_01_20200412.txt\n",
      "Arquivos Tratados. Entrada e saída:  Hough90TotalReduzida.txt Hough90TotalReduzida_01_20200412.txt\n"
     ]
    }
   ],
   "source": [
    "# Arquivos a serem ajustados\n",
    "ajustaArquivo('Hough45Endo.txt', 'Hough45Endo_01_20200412.txt')\n",
    "ajustaArquivo('Hough45EndoReduzida.txt', 'Hough45EndoReduzida_01_20200412.txt')\n",
    "ajustaArquivo('Hough45Epi.txt', 'Hough45Epi_01_20200412.txt')\n",
    "ajustaArquivo('Hough45EpiReduzida.txt', 'Hough45EpiReduzida_01_20200412.txt')\n",
    "ajustaArquivo('Hough45Parede.txt', 'Hough45Parede_01_20200412.txt')\n",
    "ajustaArquivo('Hough45TotalReduzida.txt', 'Hough45TotalReduzida_01_20200412.txt')\n",
    "ajustaArquivo('Hough90Endo.txt', 'Hough90Endo_01_20200412.txt')\n",
    "ajustaArquivo('Hough90Epi.txt', 'Hough90Epi_01_20200412.txt')\n",
    "ajustaArquivo('Hough90EpiReduzida.txt', 'Hough90EpiReduzida_01_20200412.txt')\n",
    "ajustaArquivo('Hough90Total.txt', 'Hough90Total_01_20200412.txt')\n",
    "ajustaArquivo('Hough90TotalReduzida.txt', 'Hough90TotalReduzida_01_20200412.txt')"
   ]
  },
  {
   "cell_type": "code",
   "execution_count": null,
   "metadata": {},
   "outputs": [],
   "source": []
  }
 ],
 "metadata": {
  "kernelspec": {
   "display_name": "Python 3",
   "language": "python",
   "name": "python3"
  },
  "language_info": {
   "codemirror_mode": {
    "name": "ipython",
    "version": 3
   },
   "file_extension": ".py",
   "mimetype": "text/x-python",
   "name": "python",
   "nbconvert_exporter": "python",
   "pygments_lexer": "ipython3",
   "version": "3.7.3"
  }
 },
 "nbformat": 4,
 "nbformat_minor": 2
}
