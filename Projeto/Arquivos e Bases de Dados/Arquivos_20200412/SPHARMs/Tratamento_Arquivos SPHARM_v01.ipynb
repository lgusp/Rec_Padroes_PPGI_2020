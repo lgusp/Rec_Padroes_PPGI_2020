{
 "cells": [
  {
   "cell_type": "markdown",
   "metadata": {},
   "source": [
    "# USP - EACH - Reconhecimento de Padrões - 12 de Abril de 2020"
   ]
  },
  {
   "cell_type": "markdown",
   "metadata": {},
   "source": [
    "## Tratamento dos Arquivos SPHARM - Soma e Total\n",
    "- Ajuste do identificador da linha (paciente)\n",
    "-- Vem com uma linha de idxxx e a outra com as colunas - vamos juntar as duas acertando o id na primeira coluna\n",
    "-- Verificação na quantidade final de colunas - x colunas\n",
    "-- No arquivo original os valores estão separados por ponto-e-vírgula e a cada 4 valor a separação é só por vírgula\n",
    "-- Vamos deixar tudo como virgula"
   ]
  },
  {
   "cell_type": "code",
   "execution_count": 14,
   "metadata": {},
   "outputs": [],
   "source": [
    "# Rotina de acerto de arquivo\n",
    "def ajustaArquivo(arqent, arqsai):\n",
    "    import re\n",
    "    \n",
    "    arqE = arqent # Arquivo de Entrada\n",
    "    arqS = arqsai # Arquivo de saída\n",
    "    print('Arquivos Tratados. Entrada e saída: ', arqE, arqS)\n",
    "\n",
    "    # Tratando o identificador da linha\n",
    "    linha = ''\n",
    "    lnId = ''\n",
    "    lnVal = ''\n",
    "    ls = ''\n",
    "\n",
    "    with open(arqS, 'w') as saida:\n",
    "        with open(arqE) as entrada:\n",
    "        \n",
    "            for le in entrada:\n",
    "                #print('Linha de Entrada: ', le)         \n",
    "                \n",
    "                # Retira os espaços em branco da linha (antes e depois)\n",
    "                linha = le.rstrip()\n",
    "\n",
    "                # Despreza a primeira linha (em branco) e a última linha\n",
    "                if (linha == '') or (linha[0:17] == 'Descriptor SPHARM'):\n",
    "                    #print('desprezou')\n",
    "                    continue\n",
    "                elif (linha[0:8] == 'Paciente'):\n",
    "                    #print('Paciente: ', linha)\n",
    "                    # Acerto do id - Ajusta o identificador\n",
    "                    if (len(linha) > 13) or (len(linha) < 2):\n",
    "                        print('Erro. Linha errada: ', linha)\n",
    "                    elif (len(linha) == 11):\n",
    "                        lnId = 'id00' + linha[10:11]\n",
    "                    elif (len(linha) == 12):\n",
    "                        lnId = 'id0' + linha[10:12]\n",
    "                    else:\n",
    "                        lnId = 'id' + linha[10:13]                                        \n",
    "                elif (linha[0:5] == 'VALOR'):\n",
    "                    #print('Valor: ', linha)\n",
    "                    # Linha com o conteúdo do valor de L\n",
    "                    lnVal = linha\n",
    "                else:\n",
    "                    # Linha de dados numéricos\n",
    "                    # Junta o id e valor arrumado com a linha de dados\n",
    "                    #print('Números: ', linha)\n",
    "                    if (lnVal != ''):\n",
    "                        ls = lnId + ',' + lnVal + ',' + linha[:-1] + '\\n'\n",
    "                    else:\n",
    "                        ls = lnId + ',' + linha[:-2] + '\\n'\n",
    "                              \n",
    "                    linha = ''\n",
    "                    lnVal = ''\n",
    "                    \n",
    "                    # Altera todas os ponto-e-vírgulas para vírgulas\n",
    "                    ls = ls.replace(\";\", \",\")\n",
    "                                                            \n",
    "                    # Grava a linha arrumada com o id e os dados no arquivo de saída\n",
    "                    saida.write(ls)\n",
    "                    #print('Linha gravada: ', ls)\n"
   ]
  },
  {
   "cell_type": "code",
   "execution_count": 15,
   "metadata": {},
   "outputs": [
    {
     "name": "stdout",
     "output_type": "stream",
     "text": [
      "Arquivos Tratados. Entrada e saída:  OctantEndoSPHARM-ARQUIVOCOMFALHA.txt OctantEndoSPHARM_01_20200412.txt\n",
      "Arquivos Tratados. Entrada e saída:  OctantEpiSPHARM-ARQUIVOCOMFALHA.txt OctantEpiSPHARM_01_20200412.txt\n",
      "Arquivos Tratados. Entrada e saída:  OctantParedeSPHARM-ARQUIVOCOMFALHA.txt OctantParedeSPHARM_01_20200412.txt\n",
      "Arquivos Tratados. Entrada e saída:  SomaEndoSPHARM.txt SomaEndoSPHARM_01_20200412.txt\n",
      "Arquivos Tratados. Entrada e saída:  SomaEpiSPHARM.txt SomaEpiSPHARM_01_20200412.txt\n",
      "Arquivos Tratados. Entrada e saída:  SomaParedeSPHARM.txt SomaParedeSPHARM_01_20200412.txt\n",
      "Arquivos Tratados. Entrada e saída:  TotalEpiSPHARM.txt TotalEpiSPHARM_01_20200412.txt\n",
      "Arquivos Tratados. Entrada e saída:  TotalEndoSPHARM.txt TotalEndoSPHARM_01_20200412.txt\n",
      "Arquivos Tratados. Entrada e saída:  TotalParedeSPHARM.txt TotalParedeSPHARM_01_20200412.txt\n"
     ]
    }
   ],
   "source": [
    "# Arquivos a serem ajustados\n",
    "ajustaArquivo('OctantEndoSPHARM-ARQUIVOCOMFALHA.txt', 'OctantEndoSPHARM_01_20200412.txt')\n",
    "ajustaArquivo('OctantEpiSPHARM-ARQUIVOCOMFALHA.txt', 'OctantEpiSPHARM_01_20200412.txt')\n",
    "ajustaArquivo('OctantParedeSPHARM-ARQUIVOCOMFALHA.txt', 'OctantParedeSPHARM_01_20200412.txt')\n",
    "ajustaArquivo('SomaEndoSPHARM.txt', 'SomaEndoSPHARM_01_20200412.txt')\n",
    "ajustaArquivo('SomaEpiSPHARM.txt', 'SomaEpiSPHARM_01_20200412.txt')\n",
    "ajustaArquivo('SomaParedeSPHARM.txt', 'SomaParedeSPHARM_01_20200412.txt')\n",
    "ajustaArquivo('TotalEpiSPHARM.txt', 'TotalEpiSPHARM_01_20200412.txt')\n",
    "ajustaArquivo('TotalEndoSPHARM.txt', 'TotalEndoSPHARM_01_20200412.txt')\n",
    "ajustaArquivo('TotalParedeSPHARM.txt', 'TotalParedeSPHARM_01_20200412.txt')"
   ]
  },
  {
   "cell_type": "code",
   "execution_count": null,
   "metadata": {},
   "outputs": [],
   "source": []
  }
 ],
 "metadata": {
  "kernelspec": {
   "display_name": "Python 3",
   "language": "python",
   "name": "python3"
  },
  "language_info": {
   "codemirror_mode": {
    "name": "ipython",
    "version": 3
   },
   "file_extension": ".py",
   "mimetype": "text/x-python",
   "name": "python",
   "nbconvert_exporter": "python",
   "pygments_lexer": "ipython3",
   "version": "3.7.3"
  }
 },
 "nbformat": 4,
 "nbformat_minor": 2
}
