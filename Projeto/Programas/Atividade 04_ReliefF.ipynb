{
 "cells": [
  {
   "cell_type": "code",
   "execution_count": 5,
   "metadata": {},
   "outputs": [
    {
     "name": "stdout",
     "output_type": "stream",
     "text": [
      "[[2 9]\n",
      " [1 5]\n",
      " [3 9]\n",
      " [3 8]\n",
      " [0 6]]\n",
      "--------------\n",
      "(No. of tuples, No. of Columns before ReliefF) : (5, 3)\n",
      "(No. of tuples , No. of Columns after ReliefF) : (5, 2)\n",
      "(No. of tuples, No. of Columns before ReliefF) : (150, 4)\n",
      "(No. of tuples, No. of Columns after ReliefF) : (150, 2)\n"
     ]
    }
   ],
   "source": [
    "from skrebate import ReliefF\n",
    "import numpy as np\n",
    "from sklearn import datasets\n",
    "import pandas as pd\n",
    "\n",
    "#example of 2 class problem\n",
    "data = np.array([[9,2,2],[5,1,0],[9,3,2],[8,3,1],[6,0,0]])\n",
    "target = np.array([0,0,1,1,1])\n",
    "\n",
    "fs = ReliefF(n_neighbors=1, n_features_to_select=2)\n",
    "X_train = fs.fit_transform(data, target)\n",
    "print(X_train)\n",
    "print(\"--------------\")\n",
    "print(\"(No. of tuples, No. of Columns before ReliefF) : \"+str(data.shape)+\n",
    "      \"\\n(No. of tuples , No. of Columns after ReliefF) : \"+str(X_train.shape))\n",
    "\n",
    "\n",
    "#example of multi class problem\n",
    "iris = datasets.load_iris()\n",
    "X = iris.data\n",
    "Y = iris.target\n",
    "\n",
    "fs = ReliefF(n_neighbors=20, n_features_to_select=2)\n",
    "X_train = fs.fit_transform(X, Y)\n",
    "print(\"(No. of tuples, No. of Columns before ReliefF) : \"+str(iris.data.shape)+\n",
    "      \"\\n(No. of tuples, No. of Columns after ReliefF) : \"+str(X_train.shape))\n"
   ]
  },
  {
   "cell_type": "code",
   "execution_count": null,
   "metadata": {},
   "outputs": [],
   "source": []
  },
  {
   "cell_type": "code",
   "execution_count": null,
   "metadata": {},
   "outputs": [],
   "source": []
  },
  {
   "cell_type": "code",
   "execution_count": null,
   "metadata": {},
   "outputs": [],
   "source": []
  }
 ],
 "metadata": {
  "kernelspec": {
   "display_name": "Python 3",
   "language": "python",
   "name": "python3"
  },
  "language_info": {
   "codemirror_mode": {
    "name": "ipython",
    "version": 3
   },
   "file_extension": ".py",
   "mimetype": "text/x-python",
   "name": "python",
   "nbconvert_exporter": "python",
   "pygments_lexer": "ipython3",
   "version": "3.7.3"
  }
 },
 "nbformat": 4,
 "nbformat_minor": 2
}
