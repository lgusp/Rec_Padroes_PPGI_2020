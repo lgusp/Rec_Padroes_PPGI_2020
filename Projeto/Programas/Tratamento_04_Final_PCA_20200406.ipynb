{
 "cells": [
  {
   "cell_type": "markdown",
   "metadata": {},
   "source": [
    "# USP - EACH - SIN5007 - Reconhecimento de Padrões\n",
    "## Grupo H/8 - Atividade 03 - PCA\n",
    "### Tratamento do Arquivo Total SPHARM\n",
    "\n",
    "Tomamos as seguintes decisões:\n",
    "\n",
    "Atributo Idade - Preenchemos os dados faltantes com a média, pois só existiam 5 ocorrências\n",
    "\n",
    "Atributos SPHARMs - Vamos criar os seguintes atributos:\n",
    "\n",
    "-- somatória por amostra (linha)\n",
    "\n",
    "-- média\n",
    "\n",
    "-- Quantidade de ocorrências preenchidas\n",
    "\n",
    "Classes - \n",
    "\n",
    "Primeiro vamos calcular o PCA com as 3 classes (direto, com padronização e normalização).\n",
    "\n",
    "Depois, vamos considerar o PCA somente para duas classes 0 e 2 e outro PCA para 0 e 1 (padronizada e normalizada)"
   ]
  },
  {
   "cell_type": "code",
   "execution_count": 1,
   "metadata": {},
   "outputs": [
    {
     "name": "stdout",
     "output_type": "stream",
     "text": [
      "Nome do Arquivo: Total_SPHARM_20200326.csv\n",
      "Estrutura do arquivo: \n",
      "Quantidade de linhas: 400 \n",
      "Quantidade de Colunas: 718\n"
     ]
    },
    {
     "data": {
      "text/html": [
       "<div>\n",
       "<style scoped>\n",
       "    .dataframe tbody tr th:only-of-type {\n",
       "        vertical-align: middle;\n",
       "    }\n",
       "\n",
       "    .dataframe tbody tr th {\n",
       "        vertical-align: top;\n",
       "    }\n",
       "\n",
       "    .dataframe thead th {\n",
       "        text-align: right;\n",
       "    }\n",
       "</style>\n",
       "<table border=\"1\" class=\"dataframe\">\n",
       "  <thead>\n",
       "    <tr style=\"text-align: right;\">\n",
       "      <th></th>\n",
       "      <th>0</th>\n",
       "      <th>1</th>\n",
       "      <th>2</th>\n",
       "      <th>3</th>\n",
       "      <th>4</th>\n",
       "      <th>5</th>\n",
       "      <th>6</th>\n",
       "      <th>7</th>\n",
       "      <th>8</th>\n",
       "      <th>9</th>\n",
       "      <th>...</th>\n",
       "      <th>708</th>\n",
       "      <th>709</th>\n",
       "      <th>710</th>\n",
       "      <th>711</th>\n",
       "      <th>712</th>\n",
       "      <th>713</th>\n",
       "      <th>714</th>\n",
       "      <th>715</th>\n",
       "      <th>716</th>\n",
       "      <th>717</th>\n",
       "    </tr>\n",
       "  </thead>\n",
       "  <tbody>\n",
       "    <tr>\n",
       "      <th>0</th>\n",
       "      <td>id001</td>\n",
       "      <td>29.0</td>\n",
       "      <td>0.0</td>\n",
       "      <td>1.0</td>\n",
       "      <td>-7881.480247</td>\n",
       "      <td>-5759.969698</td>\n",
       "      <td>-24465.608592</td>\n",
       "      <td>-15275.106756</td>\n",
       "      <td>-22974.378070</td>\n",
       "      <td>-22686.138288</td>\n",
       "      <td>...</td>\n",
       "      <td>NaN</td>\n",
       "      <td>NaN</td>\n",
       "      <td>NaN</td>\n",
       "      <td>NaN</td>\n",
       "      <td>NaN</td>\n",
       "      <td>NaN</td>\n",
       "      <td>NaN</td>\n",
       "      <td>NaN</td>\n",
       "      <td>NaN</td>\n",
       "      <td>0.0</td>\n",
       "    </tr>\n",
       "    <tr>\n",
       "      <th>1</th>\n",
       "      <td>id002</td>\n",
       "      <td>31.0</td>\n",
       "      <td>0.0</td>\n",
       "      <td>1.0</td>\n",
       "      <td>-567.772697</td>\n",
       "      <td>-33.292309</td>\n",
       "      <td>-465.179132</td>\n",
       "      <td>-525.981010</td>\n",
       "      <td>-469.546900</td>\n",
       "      <td>-305.182676</td>\n",
       "      <td>...</td>\n",
       "      <td>NaN</td>\n",
       "      <td>NaN</td>\n",
       "      <td>NaN</td>\n",
       "      <td>NaN</td>\n",
       "      <td>NaN</td>\n",
       "      <td>NaN</td>\n",
       "      <td>NaN</td>\n",
       "      <td>NaN</td>\n",
       "      <td>NaN</td>\n",
       "      <td>0.0</td>\n",
       "    </tr>\n",
       "    <tr>\n",
       "      <th>2</th>\n",
       "      <td>id003</td>\n",
       "      <td>27.0</td>\n",
       "      <td>0.0</td>\n",
       "      <td>1.0</td>\n",
       "      <td>-135372.767326</td>\n",
       "      <td>-115124.114646</td>\n",
       "      <td>-772665.053883</td>\n",
       "      <td>-292331.423079</td>\n",
       "      <td>-58059.255010</td>\n",
       "      <td>-118464.329594</td>\n",
       "      <td>...</td>\n",
       "      <td>NaN</td>\n",
       "      <td>NaN</td>\n",
       "      <td>NaN</td>\n",
       "      <td>NaN</td>\n",
       "      <td>NaN</td>\n",
       "      <td>NaN</td>\n",
       "      <td>NaN</td>\n",
       "      <td>NaN</td>\n",
       "      <td>NaN</td>\n",
       "      <td>0.0</td>\n",
       "    </tr>\n",
       "    <tr>\n",
       "      <th>3</th>\n",
       "      <td>id004</td>\n",
       "      <td>52.0</td>\n",
       "      <td>0.0</td>\n",
       "      <td>1.0</td>\n",
       "      <td>-582.939571</td>\n",
       "      <td>-366.425893</td>\n",
       "      <td>-281.022452</td>\n",
       "      <td>-437.739821</td>\n",
       "      <td>-206.814933</td>\n",
       "      <td>-230.346112</td>\n",
       "      <td>...</td>\n",
       "      <td>NaN</td>\n",
       "      <td>NaN</td>\n",
       "      <td>NaN</td>\n",
       "      <td>NaN</td>\n",
       "      <td>NaN</td>\n",
       "      <td>NaN</td>\n",
       "      <td>NaN</td>\n",
       "      <td>NaN</td>\n",
       "      <td>NaN</td>\n",
       "      <td>0.0</td>\n",
       "    </tr>\n",
       "    <tr>\n",
       "      <th>4</th>\n",
       "      <td>id005</td>\n",
       "      <td>56.0</td>\n",
       "      <td>0.0</td>\n",
       "      <td>1.0</td>\n",
       "      <td>-913.082501</td>\n",
       "      <td>-334.221895</td>\n",
       "      <td>-449.102108</td>\n",
       "      <td>-113.637478</td>\n",
       "      <td>-50.065343</td>\n",
       "      <td>-127.180338</td>\n",
       "      <td>...</td>\n",
       "      <td>NaN</td>\n",
       "      <td>NaN</td>\n",
       "      <td>NaN</td>\n",
       "      <td>NaN</td>\n",
       "      <td>NaN</td>\n",
       "      <td>NaN</td>\n",
       "      <td>NaN</td>\n",
       "      <td>NaN</td>\n",
       "      <td>NaN</td>\n",
       "      <td>0.0</td>\n",
       "    </tr>\n",
       "  </tbody>\n",
       "</table>\n",
       "<p>5 rows × 718 columns</p>\n",
       "</div>"
      ],
      "text/plain": [
       "     0     1    2    3              4              5              6    \\\n",
       "0  id001  29.0  0.0  1.0   -7881.480247   -5759.969698  -24465.608592   \n",
       "1  id002  31.0  0.0  1.0    -567.772697     -33.292309    -465.179132   \n",
       "2  id003  27.0  0.0  1.0 -135372.767326 -115124.114646 -772665.053883   \n",
       "3  id004  52.0  0.0  1.0    -582.939571    -366.425893    -281.022452   \n",
       "4  id005  56.0  0.0  1.0    -913.082501    -334.221895    -449.102108   \n",
       "\n",
       "             7             8              9    ...  708  709  710  711  712  \\\n",
       "0  -15275.106756 -22974.378070  -22686.138288  ...  NaN  NaN  NaN  NaN  NaN   \n",
       "1    -525.981010   -469.546900    -305.182676  ...  NaN  NaN  NaN  NaN  NaN   \n",
       "2 -292331.423079 -58059.255010 -118464.329594  ...  NaN  NaN  NaN  NaN  NaN   \n",
       "3    -437.739821   -206.814933    -230.346112  ...  NaN  NaN  NaN  NaN  NaN   \n",
       "4    -113.637478    -50.065343    -127.180338  ...  NaN  NaN  NaN  NaN  NaN   \n",
       "\n",
       "   713  714  715  716  717  \n",
       "0  NaN  NaN  NaN  NaN  0.0  \n",
       "1  NaN  NaN  NaN  NaN  0.0  \n",
       "2  NaN  NaN  NaN  NaN  0.0  \n",
       "3  NaN  NaN  NaN  NaN  0.0  \n",
       "4  NaN  NaN  NaN  NaN  0.0  \n",
       "\n",
       "[5 rows x 718 columns]"
      ]
     },
     "execution_count": 1,
     "metadata": {},
     "output_type": "execute_result"
    }
   ],
   "source": [
    "# Importando e abrindo o arquivo\n",
    "import numpy as np\n",
    "import pandas as pd\n",
    "import seaborn as sns\n",
    "import matplotlib.pyplot as plt\n",
    "import re\n",
    "\n",
    "df = pd.read_csv('Total_SPHARM_20200326.csv', header=None)\n",
    "\n",
    "print(f'Nome do Arquivo: Total_SPHARM_20200326.csv')\n",
    "print(f'Estrutura do arquivo: \\nQuantidade de linhas: {df.shape[0]} \\nQuantidade de Colunas: {df.shape[1]}')\n",
    "df.head()"
   ]
  },
  {
   "cell_type": "code",
   "execution_count": 2,
   "metadata": {},
   "outputs": [
    {
     "name": "stdout",
     "output_type": "stream",
     "text": [
      "<class 'pandas.core.series.Series'>\n"
     ]
    }
   ],
   "source": [
    "# Transformando a coluna de idade em numérica\n",
    "df[1].astype(int)\n",
    "\n",
    "#Transformando a coluna de classe em numérica\n",
    "df[717].astype(int)\n",
    "\n",
    "print(type(df[1]))"
   ]
  },
  {
   "cell_type": "code",
   "execution_count": 3,
   "metadata": {},
   "outputs": [
    {
     "name": "stdout",
     "output_type": "stream",
     "text": [
      "Estrutura do arquivo: \n",
      "Quantidade de linhas: 400 \n",
      "Quantidade de Colunas: 717\n"
     ]
    },
    {
     "data": {
      "text/html": [
       "<div>\n",
       "<style scoped>\n",
       "    .dataframe tbody tr th:only-of-type {\n",
       "        vertical-align: middle;\n",
       "    }\n",
       "\n",
       "    .dataframe tbody tr th {\n",
       "        vertical-align: top;\n",
       "    }\n",
       "\n",
       "    .dataframe thead th {\n",
       "        text-align: right;\n",
       "    }\n",
       "</style>\n",
       "<table border=\"1\" class=\"dataframe\">\n",
       "  <thead>\n",
       "    <tr style=\"text-align: right;\">\n",
       "      <th></th>\n",
       "      <th>0</th>\n",
       "      <th>1</th>\n",
       "      <th>2</th>\n",
       "      <th>3</th>\n",
       "      <th>4</th>\n",
       "      <th>5</th>\n",
       "      <th>6</th>\n",
       "      <th>7</th>\n",
       "      <th>8</th>\n",
       "      <th>9</th>\n",
       "      <th>...</th>\n",
       "      <th>707</th>\n",
       "      <th>708</th>\n",
       "      <th>709</th>\n",
       "      <th>710</th>\n",
       "      <th>711</th>\n",
       "      <th>712</th>\n",
       "      <th>713</th>\n",
       "      <th>714</th>\n",
       "      <th>715</th>\n",
       "      <th>716</th>\n",
       "    </tr>\n",
       "  </thead>\n",
       "  <tbody>\n",
       "    <tr>\n",
       "      <th>0</th>\n",
       "      <td>29.0</td>\n",
       "      <td>0.0</td>\n",
       "      <td>1.0</td>\n",
       "      <td>-7881.480247</td>\n",
       "      <td>-5759.969698</td>\n",
       "      <td>-24465.608592</td>\n",
       "      <td>-15275.106756</td>\n",
       "      <td>-22974.378070</td>\n",
       "      <td>-22686.138288</td>\n",
       "      <td>-6131.488463</td>\n",
       "      <td>...</td>\n",
       "      <td>NaN</td>\n",
       "      <td>NaN</td>\n",
       "      <td>NaN</td>\n",
       "      <td>NaN</td>\n",
       "      <td>NaN</td>\n",
       "      <td>NaN</td>\n",
       "      <td>NaN</td>\n",
       "      <td>NaN</td>\n",
       "      <td>NaN</td>\n",
       "      <td>0.0</td>\n",
       "    </tr>\n",
       "    <tr>\n",
       "      <th>1</th>\n",
       "      <td>31.0</td>\n",
       "      <td>0.0</td>\n",
       "      <td>1.0</td>\n",
       "      <td>-567.772697</td>\n",
       "      <td>-33.292309</td>\n",
       "      <td>-465.179132</td>\n",
       "      <td>-525.981010</td>\n",
       "      <td>-469.546900</td>\n",
       "      <td>-305.182676</td>\n",
       "      <td>-89.243364</td>\n",
       "      <td>...</td>\n",
       "      <td>NaN</td>\n",
       "      <td>NaN</td>\n",
       "      <td>NaN</td>\n",
       "      <td>NaN</td>\n",
       "      <td>NaN</td>\n",
       "      <td>NaN</td>\n",
       "      <td>NaN</td>\n",
       "      <td>NaN</td>\n",
       "      <td>NaN</td>\n",
       "      <td>0.0</td>\n",
       "    </tr>\n",
       "    <tr>\n",
       "      <th>2</th>\n",
       "      <td>27.0</td>\n",
       "      <td>0.0</td>\n",
       "      <td>1.0</td>\n",
       "      <td>-135372.767326</td>\n",
       "      <td>-115124.114646</td>\n",
       "      <td>-772665.053883</td>\n",
       "      <td>-292331.423079</td>\n",
       "      <td>-58059.255010</td>\n",
       "      <td>-118464.329594</td>\n",
       "      <td>-585147.837935</td>\n",
       "      <td>...</td>\n",
       "      <td>NaN</td>\n",
       "      <td>NaN</td>\n",
       "      <td>NaN</td>\n",
       "      <td>NaN</td>\n",
       "      <td>NaN</td>\n",
       "      <td>NaN</td>\n",
       "      <td>NaN</td>\n",
       "      <td>NaN</td>\n",
       "      <td>NaN</td>\n",
       "      <td>0.0</td>\n",
       "    </tr>\n",
       "    <tr>\n",
       "      <th>3</th>\n",
       "      <td>52.0</td>\n",
       "      <td>0.0</td>\n",
       "      <td>1.0</td>\n",
       "      <td>-582.939571</td>\n",
       "      <td>-366.425893</td>\n",
       "      <td>-281.022452</td>\n",
       "      <td>-437.739821</td>\n",
       "      <td>-206.814933</td>\n",
       "      <td>-230.346112</td>\n",
       "      <td>-126.535277</td>\n",
       "      <td>...</td>\n",
       "      <td>NaN</td>\n",
       "      <td>NaN</td>\n",
       "      <td>NaN</td>\n",
       "      <td>NaN</td>\n",
       "      <td>NaN</td>\n",
       "      <td>NaN</td>\n",
       "      <td>NaN</td>\n",
       "      <td>NaN</td>\n",
       "      <td>NaN</td>\n",
       "      <td>0.0</td>\n",
       "    </tr>\n",
       "    <tr>\n",
       "      <th>4</th>\n",
       "      <td>56.0</td>\n",
       "      <td>0.0</td>\n",
       "      <td>1.0</td>\n",
       "      <td>-913.082501</td>\n",
       "      <td>-334.221895</td>\n",
       "      <td>-449.102108</td>\n",
       "      <td>-113.637478</td>\n",
       "      <td>-50.065343</td>\n",
       "      <td>-127.180338</td>\n",
       "      <td>-640.351614</td>\n",
       "      <td>...</td>\n",
       "      <td>NaN</td>\n",
       "      <td>NaN</td>\n",
       "      <td>NaN</td>\n",
       "      <td>NaN</td>\n",
       "      <td>NaN</td>\n",
       "      <td>NaN</td>\n",
       "      <td>NaN</td>\n",
       "      <td>NaN</td>\n",
       "      <td>NaN</td>\n",
       "      <td>0.0</td>\n",
       "    </tr>\n",
       "  </tbody>\n",
       "</table>\n",
       "<p>5 rows × 717 columns</p>\n",
       "</div>"
      ],
      "text/plain": [
       "    0    1    2              3              4              5              6    \\\n",
       "0  29.0  0.0  1.0   -7881.480247   -5759.969698  -24465.608592  -15275.106756   \n",
       "1  31.0  0.0  1.0    -567.772697     -33.292309    -465.179132    -525.981010   \n",
       "2  27.0  0.0  1.0 -135372.767326 -115124.114646 -772665.053883 -292331.423079   \n",
       "3  52.0  0.0  1.0    -582.939571    -366.425893    -281.022452    -437.739821   \n",
       "4  56.0  0.0  1.0    -913.082501    -334.221895    -449.102108    -113.637478   \n",
       "\n",
       "            7              8              9    ...  707  708  709  710  711  \\\n",
       "0 -22974.378070  -22686.138288   -6131.488463  ...  NaN  NaN  NaN  NaN  NaN   \n",
       "1   -469.546900    -305.182676     -89.243364  ...  NaN  NaN  NaN  NaN  NaN   \n",
       "2 -58059.255010 -118464.329594 -585147.837935  ...  NaN  NaN  NaN  NaN  NaN   \n",
       "3   -206.814933    -230.346112    -126.535277  ...  NaN  NaN  NaN  NaN  NaN   \n",
       "4    -50.065343    -127.180338    -640.351614  ...  NaN  NaN  NaN  NaN  NaN   \n",
       "\n",
       "   712  713  714  715  716  \n",
       "0  NaN  NaN  NaN  NaN  0.0  \n",
       "1  NaN  NaN  NaN  NaN  0.0  \n",
       "2  NaN  NaN  NaN  NaN  0.0  \n",
       "3  NaN  NaN  NaN  NaN  0.0  \n",
       "4  NaN  NaN  NaN  NaN  0.0  \n",
       "\n",
       "[5 rows x 717 columns]"
      ]
     },
     "execution_count": 3,
     "metadata": {},
     "output_type": "execute_result"
    }
   ],
   "source": [
    "#Vamos excluir a primeira coluna que identifica a amostra e reescalona o índice de colunas\n",
    "dfa = df.iloc[:, 1:]\n",
    "dfa.columns = range(dfa.shape[1])\n",
    "\n",
    "print(f'Estrutura do arquivo: \\nQuantidade de linhas: {dfa.shape[0]} \\nQuantidade de Colunas: {dfa.shape[1]}')\n",
    "dfa.head()"
   ]
  },
  {
   "cell_type": "code",
   "execution_count": 4,
   "metadata": {},
   "outputs": [],
   "source": [
    "# Coluna de Idade\n",
    "# Através do MS/Excel (mais fácil) alteramos todos os conteúdos que não eram numéricos \n",
    "# para 0 (já havíamos verificado a não existência desta idade).\n",
    "\n",
    "# Calculando a média das colunas\n",
    "media = list(dfa.mean(axis=0))\n",
    "\n",
    "# Alterando de 0 para a média da idade\n",
    "for i in range(len(dfa)):\n",
    "    if (dfa.iloc[i, 0] == 0):\n",
    "        dfa.iloc[i, 0] = int(media[0])        "
   ]
  },
  {
   "cell_type": "code",
   "execution_count": 5,
   "metadata": {},
   "outputs": [
    {
     "data": {
      "text/html": [
       "<div>\n",
       "<style scoped>\n",
       "    .dataframe tbody tr th:only-of-type {\n",
       "        vertical-align: middle;\n",
       "    }\n",
       "\n",
       "    .dataframe tbody tr th {\n",
       "        vertical-align: top;\n",
       "    }\n",
       "\n",
       "    .dataframe thead th {\n",
       "        text-align: right;\n",
       "    }\n",
       "</style>\n",
       "<table border=\"1\" class=\"dataframe\">\n",
       "  <thead>\n",
       "    <tr style=\"text-align: right;\">\n",
       "      <th></th>\n",
       "      <th>0</th>\n",
       "      <th>1</th>\n",
       "      <th>2</th>\n",
       "      <th>3</th>\n",
       "      <th>4</th>\n",
       "      <th>5</th>\n",
       "      <th>6</th>\n",
       "      <th>7</th>\n",
       "      <th>8</th>\n",
       "      <th>9</th>\n",
       "      <th>...</th>\n",
       "      <th>710</th>\n",
       "      <th>711</th>\n",
       "      <th>712</th>\n",
       "      <th>713</th>\n",
       "      <th>714</th>\n",
       "      <th>715</th>\n",
       "      <th>716</th>\n",
       "      <th>717</th>\n",
       "      <th>718</th>\n",
       "      <th>719</th>\n",
       "    </tr>\n",
       "  </thead>\n",
       "  <tbody>\n",
       "    <tr>\n",
       "      <th>0</th>\n",
       "      <td>29.0</td>\n",
       "      <td>0.0</td>\n",
       "      <td>1.0</td>\n",
       "      <td>-7881.480247</td>\n",
       "      <td>-5759.969698</td>\n",
       "      <td>-24465.608592</td>\n",
       "      <td>-15275.106756</td>\n",
       "      <td>-22974.378070</td>\n",
       "      <td>-22686.138288</td>\n",
       "      <td>-6131.488463</td>\n",
       "      <td>...</td>\n",
       "      <td>NaN</td>\n",
       "      <td>NaN</td>\n",
       "      <td>NaN</td>\n",
       "      <td>NaN</td>\n",
       "      <td>NaN</td>\n",
       "      <td>NaN</td>\n",
       "      <td>0.0</td>\n",
       "      <td>-5.613779e+06</td>\n",
       "      <td>-12283.979912</td>\n",
       "      <td>457</td>\n",
       "    </tr>\n",
       "    <tr>\n",
       "      <th>1</th>\n",
       "      <td>31.0</td>\n",
       "      <td>0.0</td>\n",
       "      <td>1.0</td>\n",
       "      <td>-567.772697</td>\n",
       "      <td>-33.292309</td>\n",
       "      <td>-465.179132</td>\n",
       "      <td>-525.981010</td>\n",
       "      <td>-469.546900</td>\n",
       "      <td>-305.182676</td>\n",
       "      <td>-89.243364</td>\n",
       "      <td>...</td>\n",
       "      <td>NaN</td>\n",
       "      <td>NaN</td>\n",
       "      <td>NaN</td>\n",
       "      <td>NaN</td>\n",
       "      <td>NaN</td>\n",
       "      <td>NaN</td>\n",
       "      <td>0.0</td>\n",
       "      <td>-1.267293e+05</td>\n",
       "      <td>-560.749256</td>\n",
       "      <td>226</td>\n",
       "    </tr>\n",
       "    <tr>\n",
       "      <th>2</th>\n",
       "      <td>27.0</td>\n",
       "      <td>0.0</td>\n",
       "      <td>1.0</td>\n",
       "      <td>-135372.767326</td>\n",
       "      <td>-115124.114646</td>\n",
       "      <td>-772665.053883</td>\n",
       "      <td>-292331.423079</td>\n",
       "      <td>-58059.255010</td>\n",
       "      <td>-118464.329594</td>\n",
       "      <td>-585147.837935</td>\n",
       "      <td>...</td>\n",
       "      <td>NaN</td>\n",
       "      <td>NaN</td>\n",
       "      <td>NaN</td>\n",
       "      <td>NaN</td>\n",
       "      <td>NaN</td>\n",
       "      <td>NaN</td>\n",
       "      <td>0.0</td>\n",
       "      <td>-1.153833e+08</td>\n",
       "      <td>-409160.620274</td>\n",
       "      <td>282</td>\n",
       "    </tr>\n",
       "    <tr>\n",
       "      <th>3</th>\n",
       "      <td>52.0</td>\n",
       "      <td>0.0</td>\n",
       "      <td>1.0</td>\n",
       "      <td>-582.939571</td>\n",
       "      <td>-366.425893</td>\n",
       "      <td>-281.022452</td>\n",
       "      <td>-437.739821</td>\n",
       "      <td>-206.814933</td>\n",
       "      <td>-230.346112</td>\n",
       "      <td>-126.535277</td>\n",
       "      <td>...</td>\n",
       "      <td>NaN</td>\n",
       "      <td>NaN</td>\n",
       "      <td>NaN</td>\n",
       "      <td>NaN</td>\n",
       "      <td>NaN</td>\n",
       "      <td>NaN</td>\n",
       "      <td>0.0</td>\n",
       "      <td>-1.197444e+05</td>\n",
       "      <td>-453.577356</td>\n",
       "      <td>264</td>\n",
       "    </tr>\n",
       "    <tr>\n",
       "      <th>4</th>\n",
       "      <td>56.0</td>\n",
       "      <td>0.0</td>\n",
       "      <td>1.0</td>\n",
       "      <td>-913.082501</td>\n",
       "      <td>-334.221895</td>\n",
       "      <td>-449.102108</td>\n",
       "      <td>-113.637478</td>\n",
       "      <td>-50.065343</td>\n",
       "      <td>-127.180338</td>\n",
       "      <td>-640.351614</td>\n",
       "      <td>...</td>\n",
       "      <td>NaN</td>\n",
       "      <td>NaN</td>\n",
       "      <td>NaN</td>\n",
       "      <td>NaN</td>\n",
       "      <td>NaN</td>\n",
       "      <td>NaN</td>\n",
       "      <td>0.0</td>\n",
       "      <td>-7.692539e+04</td>\n",
       "      <td>-392.476464</td>\n",
       "      <td>196</td>\n",
       "    </tr>\n",
       "  </tbody>\n",
       "</table>\n",
       "<p>5 rows × 720 columns</p>\n",
       "</div>"
      ],
      "text/plain": [
       "    0    1    2              3              4              5              6    \\\n",
       "0  29.0  0.0  1.0   -7881.480247   -5759.969698  -24465.608592  -15275.106756   \n",
       "1  31.0  0.0  1.0    -567.772697     -33.292309    -465.179132    -525.981010   \n",
       "2  27.0  0.0  1.0 -135372.767326 -115124.114646 -772665.053883 -292331.423079   \n",
       "3  52.0  0.0  1.0    -582.939571    -366.425893    -281.022452    -437.739821   \n",
       "4  56.0  0.0  1.0    -913.082501    -334.221895    -449.102108    -113.637478   \n",
       "\n",
       "            7              8              9    ...  710  711  712  713  714  \\\n",
       "0 -22974.378070  -22686.138288   -6131.488463  ...  NaN  NaN  NaN  NaN  NaN   \n",
       "1   -469.546900    -305.182676     -89.243364  ...  NaN  NaN  NaN  NaN  NaN   \n",
       "2 -58059.255010 -118464.329594 -585147.837935  ...  NaN  NaN  NaN  NaN  NaN   \n",
       "3   -206.814933    -230.346112    -126.535277  ...  NaN  NaN  NaN  NaN  NaN   \n",
       "4    -50.065343    -127.180338    -640.351614  ...  NaN  NaN  NaN  NaN  NaN   \n",
       "\n",
       "   715  716           717            718  719  \n",
       "0  NaN  0.0 -5.613779e+06  -12283.979912  457  \n",
       "1  NaN  0.0 -1.267293e+05    -560.749256  226  \n",
       "2  NaN  0.0 -1.153833e+08 -409160.620274  282  \n",
       "3  NaN  0.0 -1.197444e+05    -453.577356  264  \n",
       "4  NaN  0.0 -7.692539e+04    -392.476464  196  \n",
       "\n",
       "[5 rows x 720 columns]"
      ]
     },
     "execution_count": 5,
     "metadata": {},
     "output_type": "execute_result"
    }
   ],
   "source": [
    "import math\n",
    "\n",
    "# Somatória dos SPHARMS por linha\n",
    "dfa[717] = 0.00    #somatória\n",
    "dfa[718] = 0.00    #média\n",
    "dfa[719] = 0       #quantidade de colunas preenchidas\n",
    "\n",
    "for l in range(len(dfa)):\n",
    "    soma = 0.00\n",
    "    qtdc = 0\n",
    "    qtdn = 0\n",
    "    for c in range(len(dfa.loc[l])):\n",
    "        if (c in [0, 1, 2, 716, 717, 718, 719]):\n",
    "            continue\n",
    "        else:\n",
    "            #print(l, c, len(dfa.loc[l]))\n",
    "            dfa.iloc[l, c].astype(float)\n",
    "            if (pd.isna(dfa.iloc[l, c])):\n",
    "                continue\n",
    "            else:\n",
    "                qtdn += 1\n",
    "                soma = soma + dfa.iloc[l, c]\n",
    "                qtdc += 1\n",
    "            \n",
    "    \n",
    "    dfa.iloc[l, 717] = soma\n",
    "    dfa.iloc[l, 718] = soma / qtdc\n",
    "    dfa.iloc[l, 719] = qtdn\n",
    "    \n",
    "dfa.head()"
   ]
  },
  {
   "cell_type": "code",
   "execution_count": 6,
   "metadata": {},
   "outputs": [
    {
     "name": "stdout",
     "output_type": "stream",
     "text": [
      "Estrutura do arquivo: \n",
      "Quantidade de linhas: 400 \n",
      "Quantidade de Características: 7\n",
      "Colunas\n",
      "0 - Idade\n",
      "1 e 2 - sexo M/F\n",
      "3 - Somatória dos atributos SPHARM\n",
      "4 - Média da somatória dos atributos SPHARM\n",
      "5 - Quantidade de colunas preenchidas\n",
      "6 - Classes\n"
     ]
    },
    {
     "data": {
      "text/html": [
       "<div>\n",
       "<style scoped>\n",
       "    .dataframe tbody tr th:only-of-type {\n",
       "        vertical-align: middle;\n",
       "    }\n",
       "\n",
       "    .dataframe tbody tr th {\n",
       "        vertical-align: top;\n",
       "    }\n",
       "\n",
       "    .dataframe thead th {\n",
       "        text-align: right;\n",
       "    }\n",
       "</style>\n",
       "<table border=\"1\" class=\"dataframe\">\n",
       "  <thead>\n",
       "    <tr style=\"text-align: right;\">\n",
       "      <th></th>\n",
       "      <th>0</th>\n",
       "      <th>1</th>\n",
       "      <th>2</th>\n",
       "      <th>3</th>\n",
       "      <th>4</th>\n",
       "      <th>5</th>\n",
       "      <th>6</th>\n",
       "    </tr>\n",
       "  </thead>\n",
       "  <tbody>\n",
       "    <tr>\n",
       "      <th>0</th>\n",
       "      <td>29.0</td>\n",
       "      <td>0.0</td>\n",
       "      <td>1.0</td>\n",
       "      <td>-5.613779e+06</td>\n",
       "      <td>-12283.979912</td>\n",
       "      <td>457</td>\n",
       "      <td>0.0</td>\n",
       "    </tr>\n",
       "    <tr>\n",
       "      <th>1</th>\n",
       "      <td>31.0</td>\n",
       "      <td>0.0</td>\n",
       "      <td>1.0</td>\n",
       "      <td>-1.267293e+05</td>\n",
       "      <td>-560.749256</td>\n",
       "      <td>226</td>\n",
       "      <td>0.0</td>\n",
       "    </tr>\n",
       "    <tr>\n",
       "      <th>2</th>\n",
       "      <td>27.0</td>\n",
       "      <td>0.0</td>\n",
       "      <td>1.0</td>\n",
       "      <td>-1.153833e+08</td>\n",
       "      <td>-409160.620274</td>\n",
       "      <td>282</td>\n",
       "      <td>0.0</td>\n",
       "    </tr>\n",
       "    <tr>\n",
       "      <th>3</th>\n",
       "      <td>52.0</td>\n",
       "      <td>0.0</td>\n",
       "      <td>1.0</td>\n",
       "      <td>-1.197444e+05</td>\n",
       "      <td>-453.577356</td>\n",
       "      <td>264</td>\n",
       "      <td>0.0</td>\n",
       "    </tr>\n",
       "    <tr>\n",
       "      <th>4</th>\n",
       "      <td>56.0</td>\n",
       "      <td>0.0</td>\n",
       "      <td>1.0</td>\n",
       "      <td>-7.692539e+04</td>\n",
       "      <td>-392.476464</td>\n",
       "      <td>196</td>\n",
       "      <td>0.0</td>\n",
       "    </tr>\n",
       "  </tbody>\n",
       "</table>\n",
       "</div>"
      ],
      "text/plain": [
       "      0    1    2             3              4    5    6\n",
       "0  29.0  0.0  1.0 -5.613779e+06  -12283.979912  457  0.0\n",
       "1  31.0  0.0  1.0 -1.267293e+05    -560.749256  226  0.0\n",
       "2  27.0  0.0  1.0 -1.153833e+08 -409160.620274  282  0.0\n",
       "3  52.0  0.0  1.0 -1.197444e+05    -453.577356  264  0.0\n",
       "4  56.0  0.0  1.0 -7.692539e+04    -392.476464  196  0.0"
      ]
     },
     "execution_count": 6,
     "metadata": {},
     "output_type": "execute_result"
    }
   ],
   "source": [
    "#Exclusão das colunas de atributos SPHARM\n",
    "dfb = pd.DataFrame()\n",
    "dfb[0] = dfa[0]\n",
    "dfb[1] = dfa[1]\n",
    "dfb[2] = dfa[2]\n",
    "dfb[717] = dfa[717]\n",
    "dfb[718] = dfa[718]\n",
    "dfb[719] = dfa[719]\n",
    "dfb[720] = dfa[716]\n",
    "dfb.columns = range(dfb.shape[1])\n",
    "\n",
    "print(f'Estrutura do arquivo: \\nQuantidade de linhas: {dfb.shape[0]} \\nQuantidade de Características: {dfb.shape[1]}')\n",
    "print('Colunas')\n",
    "print('0 - Idade')\n",
    "print('1 e 2 - sexo M/F')\n",
    "print('3 - Somatória dos atributos SPHARM')\n",
    "print('4 - Média da somatória dos atributos SPHARM')\n",
    "print('5 - Quantidade de colunas preenchidas')\n",
    "print('6 - Classes')\n",
    "dfb.head()"
   ]
  },
  {
   "cell_type": "code",
   "execution_count": 7,
   "metadata": {},
   "outputs": [
    {
     "data": {
      "text/plain": [
       "<matplotlib.axes._subplots.AxesSubplot at 0x2c12b581ef0>"
      ]
     },
     "execution_count": 7,
     "metadata": {},
     "output_type": "execute_result"
    },
    {
     "data": {
      "image/png": "[encoded data removed]",
      "text/plain": [
       "<Figure size 1440x720 with 2 Axes>"
      ]
     },
     "metadata": {
      "needs_background": "light"
     },
     "output_type": "display_data"
    }
   ],
   "source": [
    "# Correlação entre os Atributos\n",
    "plt.figure(figsize=(20, 10))\n",
    "\n",
    "corr = dfb.corr()\n",
    "my_cols = corr.columns.to_list()\n",
    "\n",
    "sns.heatmap(np.abs(corr.values), annot=True, cmap='Blues')"
   ]
  },
  {
   "cell_type": "markdown",
   "metadata": {},
   "source": [
    "# PCA"
   ]
  },
  {
   "cell_type": "code",
   "execution_count": 8,
   "metadata": {},
   "outputs": [],
   "source": [
    "#Para facilitar o processamento do PCA, vamos converter os dados para o formato numpy.\n",
    "\n",
    "dt = dfb.to_numpy()\n",
    "\n",
    "nrow, ncol = dt.shape\n",
    "\n",
    "y = dt[:,6]\n",
    "X = dt[:,:6]"
   ]
  },
  {
   "cell_type": "code",
   "execution_count": 9,
   "metadata": {},
   "outputs": [
    {
     "data": {
      "image/png": "[encoded data removed]",
      "text/plain": [
       "<Figure size 432x288 with 1 Axes>"
      ]
     },
     "metadata": {
      "needs_background": "light"
     },
     "output_type": "display_data"
    }
   ],
   "source": [
    "from sklearn.decomposition import PCA\n",
    "pca = PCA(n_components=3)\n",
    "pca_result = pca.fit_transform(X)\n",
    "\n",
    "classes = np.unique(y)\n",
    "\n",
    "colors = ['b', 'g', 'r', 'c', 'm', 'y', 'k', 'w']\n",
    "aux = 0\n",
    "\n",
    "for c in classes:\n",
    "    if c == 0:\n",
    "        lb = 'Normal'\n",
    "    elif c == 1:\n",
    "        lb = 'Hiper'\n",
    "    else:\n",
    "        lb = 'Sub'\n",
    "    nodes = np.where(y == c)\n",
    "    plt.scatter(pca_result[nodes,0], pca_result[nodes,1], s=50, color = colors[aux], label = lb)\n",
    "    aux = aux + 1"
   ]
  },
  {
   "cell_type": "markdown",
   "metadata": {},
   "source": [
    "## Padronização"
   ]
  },
  {
   "cell_type": "code",
   "execution_count": 11,
   "metadata": {},
   "outputs": [
    {
     "name": "stdout",
     "output_type": "stream",
     "text": [
      "Dados transformados:\n",
      "Media:  [-3.55271368e-17 -3.55271368e-17  3.55271368e-17  0.00000000e+00\n",
      "  8.88178420e-18 -2.30926389e-16]\n",
      "Desvio Padrao: [1. 1. 1. 1. 1. 1.]\n"
     ]
    }
   ],
   "source": [
    "from sklearn.preprocessing import StandardScaler\n",
    "scaler = StandardScaler().fit(X)\n",
    "Xp = scaler.transform(X)\n",
    "\n",
    "print('Dados transformados:')\n",
    "print('Media: ', np.mean(Xp, axis = 0))\n",
    "print('Desvio Padrao:', np.std(Xp, axis = 0))"
   ]
  },
  {
   "cell_type": "markdown",
   "metadata": {},
   "source": [
    "## PCA com Padronização"
   ]
  },
  {
   "cell_type": "code",
   "execution_count": 12,
   "metadata": {},
   "outputs": [
    {
     "data": {
      "image/png": "[encoded data removed]",
      "text/plain": [
       "<Figure size 432x288 with 1 Axes>"
      ]
     },
     "metadata": {
      "needs_background": "light"
     },
     "output_type": "display_data"
    }
   ],
   "source": [
    "from sklearn.decomposition import PCA\n",
    "pca = PCA(n_components=3)\n",
    "pca_result = pca.fit_transform(Xp)\n",
    "\n",
    "classes = np.unique(y)\n",
    "\n",
    "colors = ['b', 'g', 'r', 'c', 'm', 'y', 'k', 'w']\n",
    "aux = 0\n",
    "\n",
    "for c in classes:\n",
    "    if c == 0:\n",
    "        lb = 'Normal'\n",
    "    elif c == 1:\n",
    "        lb = 'Hiper'\n",
    "    else:\n",
    "        lb = 'Sub'\n",
    "    nodes = np.where(y == c)\n",
    "    plt.scatter(pca_result[nodes,0], pca_result[nodes,1], s=50, color = colors[aux], label = lb)\n",
    "    aux = aux + 1"
   ]
  },
  {
   "cell_type": "markdown",
   "metadata": {},
   "source": [
    "## Normalização"
   ]
  },
  {
   "cell_type": "code",
   "execution_count": 13,
   "metadata": {},
   "outputs": [
    {
     "name": "stderr",
     "output_type": "stream",
     "text": [
      "C:\\ProgramData\\Anaconda3\\lib\\site-packages\\sklearn\\preprocessing\\data.py:334: DataConversionWarning: Data with input dtype int64, float64 were all converted to float64 by MinMaxScaler.\n",
      "  return self.partial_fit(X, y)\n"
     ]
    }
   ],
   "source": [
    "from sklearn.preprocessing import MinMaxScaler\n",
    "\n",
    "y = dfb.iloc[:,6]\n",
    "Xn = dfb.iloc[:,:6]\n",
    "\n",
    "scaler = MinMaxScaler()\n",
    "scaler.fit(Xn)\n",
    "\n",
    "Xn.iloc[:, :] = scaler.transform(Xn)"
   ]
  },
  {
   "cell_type": "markdown",
   "metadata": {},
   "source": [
    "## PCA com Normalização"
   ]
  },
  {
   "cell_type": "code",
   "execution_count": 14,
   "metadata": {},
   "outputs": [
    {
     "data": {
      "image/png": "[encoded data removed]",
      "text/plain": [
       "<Figure size 432x288 with 1 Axes>"
      ]
     },
     "metadata": {
      "needs_background": "light"
     },
     "output_type": "display_data"
    }
   ],
   "source": [
    "from sklearn.decomposition import PCA\n",
    "pca = PCA(n_components=3)\n",
    "pca_result = pca.fit_transform(Xn)\n",
    "\n",
    "classes = np.unique(y)\n",
    "\n",
    "colors = ['b', 'g', 'r', 'c', 'm', 'y', 'k', 'w']\n",
    "aux = 0\n",
    "\n",
    "for c in classes:\n",
    "    if c == 0:\n",
    "        lb = 'Normal'\n",
    "    elif c == 1:\n",
    "        lb = 'Hiper'\n",
    "    else:\n",
    "        lb = 'Sub'\n",
    "    nodes = np.where(y == c)\n",
    "    plt.scatter(pca_result[nodes,0], pca_result[nodes,1], s=50, color = colors[aux], label = lb)\n",
    "    aux = aux + 1"
   ]
  },
  {
   "cell_type": "markdown",
   "metadata": {},
   "source": [
    "# PCA - Utilizando apenas as classes 0 e 2"
   ]
  },
  {
   "cell_type": "code",
   "execution_count": 15,
   "metadata": {},
   "outputs": [
    {
     "data": {
      "text/plain": [
       "(217, 7)"
      ]
     },
     "execution_count": 15,
     "metadata": {},
     "output_type": "execute_result"
    }
   ],
   "source": [
    "# Excluindo as linhas com classe = 1\n",
    "dfc = dfb.drop(dfb[dfb[6] == 1.00].index)\n",
    "dfc.shape"
   ]
  },
  {
   "cell_type": "code",
   "execution_count": 16,
   "metadata": {},
   "outputs": [],
   "source": [
    "#Para facilitar o processamento do PCA, vamos converter os dados para o formato numpy.\n",
    "\n",
    "dt = dfc.to_numpy()\n",
    "\n",
    "nrow, ncol = dt.shape\n",
    "\n",
    "y = dt[:,6]\n",
    "X = dt[:,:6]"
   ]
  },
  {
   "cell_type": "code",
   "execution_count": 17,
   "metadata": {},
   "outputs": [
    {
     "data": {
      "image/png": "[encoded data removed]",
      "text/plain": [
       "<Figure size 432x288 with 1 Axes>"
      ]
     },
     "metadata": {
      "needs_background": "light"
     },
     "output_type": "display_data"
    }
   ],
   "source": [
    "from sklearn.decomposition import PCA\n",
    "pca = PCA(n_components=2)\n",
    "pca_result = pca.fit_transform(X)\n",
    "\n",
    "classes = np.unique(y)\n",
    "\n",
    "colors = ['b', 'g', 'r', 'c', 'm', 'y', 'k', 'w']\n",
    "aux = 0\n",
    "\n",
    "for c in classes:\n",
    "    if c == 0:\n",
    "        lb = 'Normal'\n",
    "    elif c == 1:\n",
    "        lb = 'Hiper'\n",
    "    else:\n",
    "        lb = 'Sub'\n",
    "    nodes = np.where(y == c)\n",
    "    plt.scatter(pca_result[nodes,0], pca_result[nodes,1], s=50, color = colors[aux], label = lb)\n",
    "    aux = aux + 1"
   ]
  },
  {
   "cell_type": "markdown",
   "metadata": {},
   "source": [
    "## PCA com Padronização - Classes 0 e 2"
   ]
  },
  {
   "cell_type": "code",
   "execution_count": 18,
   "metadata": {},
   "outputs": [
    {
     "name": "stdout",
     "output_type": "stream",
     "text": [
      "Dados transformados:\n",
      "Media:  [ 1.30975619e-16  9.82317146e-17  6.54878097e-17  1.63719524e-17\n",
      " -4.09298811e-18  3.27439049e-17]\n",
      "Desvio Padrao: [1. 1. 1. 1. 1. 1.]\n"
     ]
    },
    {
     "data": {
      "image/png": "[encoded data removed]",
      "text/plain": [
       "<Figure size 432x288 with 1 Axes>"
      ]
     },
     "metadata": {
      "needs_background": "light"
     },
     "output_type": "display_data"
    }
   ],
   "source": [
    "# Padronizando\n",
    "\n",
    "from sklearn.preprocessing import StandardScaler\n",
    "scaler = StandardScaler().fit(X)\n",
    "Xp = scaler.transform(X)\n",
    "\n",
    "print('Dados transformados:')\n",
    "print('Media: ', np.mean(Xp, axis = 0))\n",
    "print('Desvio Padrao:', np.std(Xp, axis = 0))\n",
    "\n",
    "from sklearn.decomposition import PCA\n",
    "pca = PCA(n_components=2)\n",
    "pca_result = pca.fit_transform(Xp)\n",
    "\n",
    "classes = np.unique(y)\n",
    "\n",
    "colors = ['b', 'g', 'r', 'c', 'm', 'y', 'k', 'w']\n",
    "aux = 0\n",
    "\n",
    "for c in classes:\n",
    "    if c == 0:\n",
    "        lb = 'Normal'\n",
    "    elif c == 1:\n",
    "        lb = 'Hiper'\n",
    "    else:\n",
    "        lb = 'Sub'\n",
    "    nodes = np.where(y == c)\n",
    "    plt.scatter(pca_result[nodes,0], pca_result[nodes,1], s=50, color = colors[aux], label = lb)\n",
    "    aux = aux + 1"
   ]
  },
  {
   "cell_type": "markdown",
   "metadata": {},
   "source": [
    "## PCA com Normalização - Classes 0 e 2"
   ]
  },
  {
   "cell_type": "code",
   "execution_count": 19,
   "metadata": {},
   "outputs": [
    {
     "name": "stderr",
     "output_type": "stream",
     "text": [
      "C:\\ProgramData\\Anaconda3\\lib\\site-packages\\sklearn\\preprocessing\\data.py:334: DataConversionWarning: Data with input dtype int64, float64 were all converted to float64 by MinMaxScaler.\n",
      "  return self.partial_fit(X, y)\n"
     ]
    },
    {
     "data": {
      "image/png": "[encoded data removed]",
      "text/plain": [
       "<Figure size 432x288 with 1 Axes>"
      ]
     },
     "metadata": {
      "needs_background": "light"
     },
     "output_type": "display_data"
    }
   ],
   "source": [
    "# Normalizando\n",
    "from sklearn.preprocessing import MinMaxScaler\n",
    "\n",
    "y = dfb.iloc[:,6]\n",
    "Xn = dfb.iloc[:,:6]\n",
    "\n",
    "scaler = MinMaxScaler()\n",
    "scaler.fit(Xn)\n",
    "\n",
    "Xn.iloc[:, :] = scaler.transform(Xn)\n",
    "\n",
    "from sklearn.decomposition import PCA\n",
    "pca = PCA(n_components=2)\n",
    "pca_result = pca.fit_transform(Xn)\n",
    "\n",
    "classes = np.unique(y)\n",
    "\n",
    "colors = ['b', 'g', 'r', 'c', 'm', 'y', 'k', 'w']\n",
    "aux = 0\n",
    "\n",
    "for c in classes:\n",
    "    if c == 0:\n",
    "        lb = 'Normal'\n",
    "    elif c == 1:\n",
    "        lb = 'Hiper'\n",
    "    else:\n",
    "        lb = 'Sub'\n",
    "    nodes = np.where(y == c)\n",
    "    plt.scatter(pca_result[nodes,0], pca_result[nodes,1], s=50, color = colors[aux], label = lb)\n",
    "    aux = aux + 1"
   ]
  },
  {
   "cell_type": "code",
   "execution_count": null,
   "metadata": {},
   "outputs": [],
   "source": []
  }
 ],
 "metadata": {
  "kernelspec": {
   "display_name": "Python 3",
   "language": "python",
   "name": "python3"
  },
  "language_info": {
   "codemirror_mode": {
    "name": "ipython",
    "version": 3
   },
   "file_extension": ".py",
   "mimetype": "text/x-python",
   "name": "python",
   "nbconvert_exporter": "python",
   "pygments_lexer": "ipython3",
   "version": "3.7.3"
  }
 },
 "nbformat": 4,
 "nbformat_minor": 2
}
